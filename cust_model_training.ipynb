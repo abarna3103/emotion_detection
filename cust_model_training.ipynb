{
 "cells": [
  {
   "cell_type": "code",
   "execution_count": 1,
   "id": "641e2305-8fc2-430e-86c2-b50c998e666f",
   "metadata": {},
   "outputs": [],
   "source": [
    "\n",
    "import torch\n",
    "import torch.nn as nn\n",
    "import torch.optim as optim\n",
    "import numpy as np\n",
    "import matplotlib.pyplot as plt\n",
    "import seaborn as sns\n",
    "from torchvision import datasets, transforms\n",
    "from torch.utils.data import DataLoader\n",
    "from sklearn.metrics import accuracy_score, precision_score, recall_score, f1_score, confusion_matrix\n",
    "\n"
   ]
  },
  {
   "cell_type": "code",
   "execution_count": 2,
   "id": "bcf9c961-bb63-4dde-b82b-2838f988b98b",
   "metadata": {},
   "outputs": [],
   "source": [
    "# 1. Define Transformations with Data Augmentation\n",
    "train_transform = transforms.Compose([\n",
    "    transforms.Grayscale(num_output_channels=1),  # Convert to grayscale\n",
    "    transforms.Resize((48, 48)),  # Resize to 48x48 (FER2013 standard)\n",
    "    transforms.RandomHorizontalFlip(),  # Randomly flip the image horizontally\n",
    "    transforms.RandomRotation(10),  # Randomly rotate the image by up to 10 degrees\n",
    "    transforms.ColorJitter(brightness=0.2, contrast=0.2, saturation=0.2, hue=0.2),  # Random color adjustments\n",
    "    transforms.ToTensor(),  # Convert to tensor\n",
    "    transforms.Normalize((0.5,), (0.5,))  # Normalize images\n",
    "])"
   ]
  },
  {
   "cell_type": "code",
   "execution_count": 3,
   "id": "a083387a-5ae5-48a7-9be8-df622602134c",
   "metadata": {},
   "outputs": [],
   "source": [
    "test_transform = transforms.Compose([\n",
    "    transforms.Grayscale(num_output_channels=1),  # Convert to grayscale\n",
    "    transforms.Resize((48, 48)),  # Resize to 48x48 (FER2013 standard)\n",
    "    transforms.ToTensor(),  # Convert to tensor\n",
    "    transforms.Normalize((0.5,), (0.5,))  # Normalize images\n",
    "])"
   ]
  },
  {
   "cell_type": "code",
   "execution_count": 4,
   "id": "1e2466b6-f8b0-40b3-a075-4562e7f38afd",
   "metadata": {},
   "outputs": [],
   "source": [
    "# ## Setting up Data Paths\n",
    "\n",
    "train_data_path = r\"C:\\Users\\Public\\GUVI\\code\\project\\emotion_detection\\DATA\\train\"\n",
    "test_data_path = r\"C:\\Users\\Public\\GUVI\\code\\project\\emotion_detection\\DATA\\test\""
   ]
  },
  {
   "cell_type": "code",
   "execution_count": 5,
   "id": "4d848977-80bc-4e20-9a6f-d6926e9574c7",
   "metadata": {},
   "outputs": [
    {
     "name": "stdout",
     "output_type": "stream",
     "text": [
      "Train Directory Exists: True\n",
      "Test Directory Exists: True\n",
      "Train Subdirectories: ['angry', 'disgust', 'fear', 'happy', 'neutral', 'sad', 'surprise']\n",
      "Test Subdirectories: ['angry', 'disgust', 'fear', 'happy', 'neutral', 'sad', 'surprise']\n"
     ]
    }
   ],
   "source": [
    "import os\n",
    "\n",
    "# Check if directories exist\n",
    "print(\"Train Directory Exists:\", os.path.isdir(train_data_path))\n",
    "print(\"Test Directory Exists:\", os.path.isdir(test_data_path))\n",
    "\n",
    "print(\"Train Subdirectories:\", os.listdir(train_data_path))\n",
    "print(\"Test Subdirectories:\", os.listdir(test_data_path))\n"
   ]
  },
  {
   "cell_type": "code",
   "execution_count": 6,
   "id": "82d2ae2c-86f3-4976-9195-d8b862844bde",
   "metadata": {},
   "outputs": [],
   "source": [
    "train_dataset = datasets.ImageFolder(root=train_data_path, transform=train_transform)\n",
    "test_dataset = datasets.ImageFolder(root=test_data_path, transform=test_transform)"
   ]
  },
  {
   "cell_type": "code",
   "execution_count": 7,
   "id": "bb99fed9-bf2a-44af-946f-4da075f624f6",
   "metadata": {},
   "outputs": [],
   "source": [
    "train_loader = DataLoader(train_dataset, batch_size=64, shuffle=True)\n",
    "test_loader = DataLoader(test_dataset, batch_size=64, shuffle=False)"
   ]
  },
  {
   "cell_type": "code",
   "execution_count": 8,
   "id": "5a8dfbdf-ea5f-47b8-a2e6-84714af9f400",
   "metadata": {},
   "outputs": [],
   "source": [
    "# 3. Define the CNN Model Architecture\n",
    "class EmotionCNN(nn.Module):\n",
    "    def __init__(self):\n",
    "        super(EmotionCNN, self).__init__()\n",
    "        self.conv1 = nn.Conv2d(1, 32, kernel_size=3, padding=1)\n",
    "        self.conv2 = nn.Conv2d(32, 64, kernel_size=3, padding=1)\n",
    "        self.conv3 = nn.Conv2d(64, 128, kernel_size=3, padding=1)  # Additional layer\n",
    "        self.pool = nn.MaxPool2d(2, 2)\n",
    "        self.fc1 = nn.Linear(128 * 6 * 6, 256)  # Adjusted for the new input size\n",
    "        self.fc2 = nn.Linear(256, len(train_dataset.classes))  # Number of classes in the dataset\n",
    "        self.dropout = nn.Dropout(0.5)\n",
    "\n",
    "    def forward(self, x):\n",
    "        x = self.pool(torch.relu(self.conv1(x)))\n",
    "        x = self.pool(torch.relu(self.conv2(x)))\n",
    "        x = self.pool(torch.relu(self.conv3(x)))  # Apply third convolution layer\n",
    "        x = x.view(-1, 128 * 6 * 6)  # Flatten for the fully connected layer\n",
    "        x = torch.relu(self.fc1(x))\n",
    "        x = self.dropout(x)\n",
    "        x = self.fc2(x)\n",
    "        return x"
   ]
  },
  {
   "cell_type": "code",
   "execution_count": 9,
   "id": "012e43d1-114c-4a93-b5fa-381553a3e35a",
   "metadata": {},
   "outputs": [],
   "source": [
    "# 4. Initialize Model, Loss Function, and Optimizer\n",
    "model = EmotionCNN()\n",
    "criterion = nn.CrossEntropyLoss()\n",
    "optimizer = optim.Adam(model.parameters(), lr=0.001, weight_decay=0.0001)"
   ]
  },
  {
   "cell_type": "code",
   "execution_count": 10,
   "id": "a457425b-ad2e-4983-9854-4f09f4a6cc56",
   "metadata": {},
   "outputs": [],
   "source": [
    "# 5. Early Stopping Parameters\n",
    "best_loss = float('inf')\n",
    "patience = 5  # Number of epochs to wait before stopping\n",
    "counter = 0"
   ]
  },
  {
   "cell_type": "code",
   "execution_count": 11,
   "id": "f082d35d-74c4-4d07-a17a-d8e350228b5a",
   "metadata": {},
   "outputs": [],
   "source": [
    "# 6. Training the Model with Tracking Loss and Accuracy\n",
    "train_losses = []\n",
    "train_accuracies = []"
   ]
  },
  {
   "cell_type": "code",
   "execution_count": null,
   "id": "a731a3d6-42a3-42e5-8257-6af95571a51d",
   "metadata": {},
   "outputs": [
    {
     "name": "stdout",
     "output_type": "stream",
     "text": [
      "Epoch [1/30], Loss: 1.6834, Accuracy: 0.3253\n",
      "Epoch [2/30], Loss: 1.4613, Accuracy: 0.4367\n"
     ]
    }
   ],
   "source": [
    "epochs = 30  # Number of epochs\n",
    "for epoch in range(epochs):\n",
    "    model.train()  # Set the model to training mode\n",
    "    running_loss = 0.0\n",
    "    correct_preds = 0\n",
    "    total_preds = 0\n",
    "    for images, labels in train_loader:\n",
    "        optimizer.zero_grad()\n",
    "        outputs = model(images)\n",
    "        loss = criterion(outputs, labels)\n",
    "        loss.backward()\n",
    "        optimizer.step()\n",
    "        \n",
    "        running_loss += loss.item()\n",
    "        \n",
    "        # Calculate accuracy\n",
    "        _, predicted = torch.max(outputs, 1)\n",
    "        correct_preds += (predicted == labels).sum().item()\n",
    "        total_preds += labels.size(0)\n",
    "    \n",
    "    avg_loss = running_loss / len(train_loader)\n",
    "    accuracy = correct_preds / total_preds\n",
    "    \n",
    "    train_losses.append(avg_loss)\n",
    "    train_accuracies.append(accuracy)\n",
    "    \n",
    "    print(f'Epoch [{epoch+1}/{epochs}], Loss: {avg_loss:.4f}, Accuracy: {accuracy:.4f}')\n",
    "\n",
    "    # Early stopping logic\n",
    "    if avg_loss < best_loss:\n",
    "        best_loss = avg_loss\n",
    "        counter = 0\n",
    "    else:\n",
    "        counter += 1\n",
    "\n",
    "    if counter >= patience:\n",
    "        print(f'Early stopping on epoch {epoch+1}')\n",
    "        break\n"
   ]
  },
  {
   "cell_type": "code",
   "execution_count": null,
   "id": "8e05468b-6af4-4061-8356-bf7ab413f0fb",
   "metadata": {},
   "outputs": [],
   "source": [
    "# 7. Plot Training Loss and Accuracy\n",
    "plt.figure(figsize=(12, 6))\n"
   ]
  },
  {
   "cell_type": "code",
   "execution_count": null,
   "id": "0ec479da-9c3b-4ae6-9279-db0665a6dfa1",
   "metadata": {},
   "outputs": [],
   "source": [
    "# Plot loss\n",
    "plt.subplot(1, 2, 1)\n",
    "plt.plot(range(1, len(train_losses)+1), train_losses, label='Training Loss')\n",
    "plt.xlabel('Epochs')\n",
    "plt.ylabel('Loss')\n",
    "plt.title('Training Loss Over Epochs')\n",
    "plt.grid(True)\n"
   ]
  },
  {
   "cell_type": "code",
   "execution_count": null,
   "id": "2299ec91-5fef-4510-bfdd-ac6ddae449db",
   "metadata": {},
   "outputs": [],
   "source": [
    "# Plot accuracy\n",
    "plt.subplot(1, 2, 2)\n",
    "plt.plot(range(1, len(train_accuracies)+1), train_accuracies, label='Training Accuracy')\n",
    "plt.xlabel('Epochs')\n",
    "plt.ylabel('Accuracy')\n",
    "plt.title('Training Accuracy Over Epochs')\n",
    "plt.grid(True)\n"
   ]
  },
  {
   "cell_type": "code",
   "execution_count": null,
   "id": "fa4fb6e4-688a-4ae3-a336-14819f43ac50",
   "metadata": {},
   "outputs": [],
   "source": [
    "plt.tight_layout()\n",
    "plt.show()"
   ]
  },
  {
   "cell_type": "code",
   "execution_count": null,
   "id": "d2a37ae9-0bf5-4dd1-8d62-8647150d75ee",
   "metadata": {},
   "outputs": [],
   "source": [
    "# 8. Evaluate the Model on Test Set and Plot Confusion Matrix\n",
    "def evaluate_model(model, data_loader):\n",
    "    model.eval()  # Set to evaluation mode\n",
    "    all_preds = []\n",
    "    all_labels = []\n",
    "\n",
    "    with torch.no_grad():  # No gradient calculation for inference\n",
    "        for images, labels in data_loader:\n",
    "            images, labels = images.to(device), labels.to(device)  # Move to GPU/CPU\n",
    "            outputs = model(images)\n",
    "            _, predicted = torch.max(outputs, 1)\n",
    "            all_preds.extend(predicted.cpu().numpy())  # Move to CPU for metrics\n",
    "            all_labels.extend(labels.cpu().numpy())\n",
    "\n",
    "    # Calculate performance metrics\n",
    "    accuracy = accuracy_score(all_labels, all_preds)\n",
    "    precision = precision_score(all_labels, all_preds, average='weighted')\n",
    "    recall = recall_score(all_labels, all_preds, average='weighted')\n",
    "    f1 = f1_score(all_labels, all_preds, average='weighted')\n",
    "\n",
    "    print(f'Accuracy: {accuracy:.4f}')\n",
    "    print(f'Precision: {precision:.4f}')\n",
    "    print(f'Recall: {recall:.4f}')\n",
    "    print(f'F1 Score: {f1:.4f}')\n",
    "\n",
    "    # Confusion Matrix\n",
    "    cm = confusion_matrix(all_labels, all_preds)\n",
    "\n",
    "    # Plot confusion matrix\n",
    "    plt.figure(figsize=(10, 7))\n",
    "    sns.heatmap(cm, annot=True, fmt=\"d\", cmap=\"Blues\", \n",
    "                xticklabels=test_loader.dataset.classes, \n",
    "                yticklabels=test_loader.dataset.classes)\n",
    "    plt.xlabel('Predicted')\n",
    "    plt.ylabel('True')\n",
    "    plt.title('Confusion Matrix')\n",
    "    plt.show()\n",
    "\n",
    "    return accuracy, precision, recall, f1"
   ]
  },
  {
   "cell_type": "code",
   "execution_count": null,
   "id": "c69f4862-76e4-4924-a215-93f009155eb8",
   "metadata": {},
   "outputs": [],
   "source": [
    "# Call the evaluation function after training\n",
    "evaluate_model(model, test_loader)"
   ]
  },
  {
   "cell_type": "code",
   "execution_count": null,
   "id": "d81357e8-e928-4914-8a5f-248359be4b78",
   "metadata": {},
   "outputs": [],
   "source": [
    "# 9. Save the Trained Model\n",
    "torch.save(model.state_dict(), 'emotion_cnn_model.pth')\n"
   ]
  },
  {
   "cell_type": "code",
   "execution_count": null,
   "id": "06db9c04-96df-4d7f-95da-34b46d8e36df",
   "metadata": {},
   "outputs": [],
   "source": [
    "# 10. Load the Model for Inference\n",
    "model = EmotionCNN()\n",
    "model.load_state_dict(torch.load('emotion_cnn_model.pth'))\n",
    "model.eval()  # Set to evaluation mode"
   ]
  }
 ],
 "metadata": {
  "kernelspec": {
   "display_name": "Python 3 (ipykernel)",
   "language": "python",
   "name": "python3"
  },
  "language_info": {
   "codemirror_mode": {
    "name": "ipython",
    "version": 3
   },
   "file_extensio